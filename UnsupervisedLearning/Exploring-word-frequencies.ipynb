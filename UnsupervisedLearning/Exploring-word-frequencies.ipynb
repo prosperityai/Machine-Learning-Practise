{
 "cells": [
  {
   "cell_type": "code",
   "execution_count": 14,
   "metadata": {
    "collapsed": true
   },
   "outputs": [],
   "source": [
    "#Scikit-Learn packages\n",
    "from sklearn.feature_extraction.text import TfidfVectorizer\n",
    "from sklearn.decomposition import TruncatedSVD\n",
    "\n",
    "#Computation packages\n",
    "import numpy as np"
   ]
  },
  {
   "cell_type": "code",
   "execution_count": 20,
   "metadata": {},
   "outputs": [],
   "source": [
    "input_sample = np.array(['cats say meow', 'dogs say woof', 'dogs chase cats', 'carribean loves dogs and cats', 'meow and woof hate by carribeans'])"
   ]
  },
  {
   "cell_type": "code",
   "execution_count": 21,
   "metadata": {},
   "outputs": [
    {
     "name": "stdout",
     "output_type": "stream",
     "text": [
      "  (0, 4)\t0.506204405929\n",
      "  (0, 10)\t0.609818456353\n",
      "  (0, 9)\t0.609818456353\n",
      "  (1, 10)\t0.609818456353\n",
      "  (1, 6)\t0.506204405929\n",
      "  (1, 11)\t0.609818456353\n",
      "  (2, 4)\t0.486240416592\n",
      "  (2, 6)\t0.486240416592\n",
      "  (2, 5)\t0.726044430146\n",
      "  (3, 4)\t0.355549039983\n",
      "  (3, 6)\t0.355549039983\n",
      "  (3, 2)\t0.530898689855\n",
      "  (3, 8)\t0.530898689855\n",
      "  (3, 0)\t0.428325720165\n",
      "  (4, 9)\t0.362526179317\n",
      "  (4, 11)\t0.362526179317\n",
      "  (4, 0)\t0.362526179317\n",
      "  (4, 7)\t0.449341854987\n",
      "  (4, 1)\t0.449341854987\n",
      "  (4, 3)\t0.449341854987\n"
     ]
    }
   ],
   "source": [
    "tfidf = TfidfVectorizer() #Instantiating a TfidfVectorizer\n",
    "\n",
    "csr_mat = tfidf.fit_transform(input_sample) #Fitting and transforming on the sample\n",
    "print(csr_mat) "
   ]
  },
  {
   "cell_type": "code",
   "execution_count": 10,
   "metadata": {},
   "outputs": [
    {
     "name": "stdout",
     "output_type": "stream",
     "text": [
      "[[ 0.          0.          0.          0.          0.50620441  0.          0.\n",
      "   0.          0.          0.60981846  0.60981846  0.        ]\n",
      " [ 0.          0.          0.          0.          0.          0.\n",
      "   0.50620441  0.          0.          0.          0.60981846  0.60981846]\n",
      " [ 0.          0.          0.          0.          0.48624042  0.72604443\n",
      "   0.48624042  0.          0.          0.          0.          0.        ]\n",
      " [ 0.42832572  0.          0.53089869  0.          0.35554904  0.\n",
      "   0.35554904  0.          0.53089869  0.          0.          0.        ]\n",
      " [ 0.36252618  0.44934185  0.          0.44934185  0.          0.          0.\n",
      "   0.44934185  0.          0.36252618  0.          0.36252618]]\n"
     ]
    }
   ],
   "source": [
    "print (csr_mat.toarray())"
   ]
  },
  {
   "cell_type": "code",
   "execution_count": 22,
   "metadata": {},
   "outputs": [
    {
     "name": "stdout",
     "output_type": "stream",
     "text": [
      "[u'and', u'by', u'carribean', u'carribeans', u'cats', u'chase', u'dogs', u'hate', u'loves', u'meow', u'say', u'woof']\n"
     ]
    }
   ],
   "source": [
    "# Extracting the words\n",
    "words = tfidf.get_feature_names()\n",
    "print(words)"
   ]
  },
  {
   "cell_type": "markdown",
   "metadata": {},
   "source": [
    "# Using Truncated SVD to perform PCA on the sample set"
   ]
  },
  {
   "cell_type": "code",
   "execution_count": null,
   "metadata": {},
   "outputs": [],
   "source": [
    "model = TruncatedSVD(n_components=3)\n",
    "model.fit(input_sample)\n",
    "transformed = model.transform(input_sample)"
   ]
  }
 ],
 "metadata": {
  "kernelspec": {
   "display_name": "Python 2",
   "language": "python",
   "name": "python2"
  },
  "language_info": {
   "codemirror_mode": {
    "name": "ipython",
    "version": 2
   },
   "file_extension": ".py",
   "mimetype": "text/x-python",
   "name": "python",
   "nbconvert_exporter": "python",
   "pygments_lexer": "ipython2",
   "version": "2.7.14"
  }
 },
 "nbformat": 4,
 "nbformat_minor": 2
}
