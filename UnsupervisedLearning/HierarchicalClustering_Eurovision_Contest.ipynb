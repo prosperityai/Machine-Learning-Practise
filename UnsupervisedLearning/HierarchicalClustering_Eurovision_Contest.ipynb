{
 "cells": [
  {
   "cell_type": "markdown",
   "metadata": {},
   "source": [
    "# Single Linkage Hierarchical Clustering"
   ]
  },
  {
   "cell_type": "markdown",
   "metadata": {},
   "source": [
    "In this notebook, I am performing a single linkage hierarchical clustering on the Eurovisoon song data. \n",
    "In the dataset, each row of the array sample corresponds to a voting country, and each column corresponds to the performance that was voted for. \n",
    "\n",
    "Source of the dataset: www.eurovision.tv/page/results"
   ]
  },
  {
   "cell_type": "code",
   "execution_count": 51,
   "metadata": {
    "collapsed": true
   },
   "outputs": [],
   "source": [
    "#Scipy packages\n",
    "from scipy.cluster.hierarchy import linkage, dendrogram\n",
    "\n",
    "#Computational packages\n",
    "import numpy as np\n",
    "import matplotlib.pyplot as plt"
   ]
  },
  {
   "cell_type": "code",
   "execution_count": 53,
   "metadata": {},
   "outputs": [],
   "source": [
    "sub_sample_1 = np.array([2, 12, 0, 0, 0, 8, 0, 0, 0, 0, 0, 0, 1, 0, 10, 0, 4, 0, 5, 7, 0, 0, 3, 0, 6, 0])\n",
    "sub_sample_2 = np.array([12, 0, 4, 0, 0, 0, 0, 6, 0, 7, 8, 0, 3, 0, 0, 0, 0, 5, 1,12, 0, 0, 2, 0,10, 0])\n",
    "sub_sample_3 = np.array([0,12, 3, 0,12,10, 0, 0, 0, 7, 0, 0, 0, 0, 0, 0, 1, 6, 0, 5, 0, 2, 0, 0, 8, 4])\n",
    "sub_sample_4 = np.array([0, 3,12, 0, 0, 5, 0, 0, 0, 1, 0, 2, 0, 0, 0, 0, 0, 0,12, 8, 4, 0, 7, 6,10, 0])\n",
    "sub_sample_5 = np.array([0, 2, 0,12, 0, 8, 0, 0, 0, 4, 1, 0, 7, 6, 0, 0, 0, 5, 3,12, 0, 0, 0, 0,10, 0])\n",
    "sub_sample_6 = np.array([7, 1, 0, 8, 0, 4, 0, 0, 0, 0, 0, 0, 3, 0, 0, 5, 0, 0, 6,12, 0, 0, 2, 0,10, 0])\n",
    "sub_sample_7 = np.array([7, 4, 3, 0,12, 5, 0, 0, 0, 8, 0, 0, 0, 0, 0, 0, 0, 0,12, 6, 0, 0, 1,10, 2, 0])\n",
    "sub_sample_8 = np.array([0, 3, 5, 8, 0, 2,10, 0, 0, 4, 0, 0, 1, 0, 0, 0, 0, 0, 0, 6,12, 0, 0, 0, 7, 0])\n",
    "sub_sample_9 = np.array([8, 5, 4, 1, 0,12, 0, 7, 0, 0, 0, 0, 0, 2, 0, 0, 0, 0, 6,12, 0, 0, 3, 0,10, 0])\n",
    "sub_sample_10 = np.array([0, 5, 6, 0, 0, 1,12, 0, 0, 2, 0, 0, 3, 0, 0, 0, 0, 0, 4, 8,12, 0, 7, 0,10, 0])\n",
    "sub_sample_11 = np.array([8, 5, 0, 0, 0,12, 0,12, 0, 6, 0, 0, 4, 0, 0, 0, 3, 0, 2,10, 0, 0, 1, 0, 7, 0])\n",
    "sub_sample_12 = np.array([8, 1, 4, 6, 0, 5, 0, 0,12, 0, 0, 0, 3, 0, 0, 0, 0, 0, 7,10, 0, 0, 2, 0,12, 0])\n",
    "sub_sample_13 = np.array([0,10, 1, 0, 8, 0, 0, 0, 0, 2, 0, 0, 0, 0, 0, 0, 6, 0, 5, 4, 0, 0,12, 7, 3, 0])\n",
    "sub_sample_14 = np.array([0, 4, 6, 0, 0, 0, 0, 3, 0, 2, 0, 0, 0, 0, 0, 7, 5, 0, 1,12, 0, 0,10, 0, 8, 0])\n",
    "sub_sample_15 = np.array([7, 3, 0, 0, 4,10, 5, 0, 0, 0, 0, 0, 0, 0, 1, 0, 0, 0, 2, 8,12, 0, 0, 0, 6, 0])\n",
    "sub_sample_16 = np.array([0, 7, 6, 0, 0, 4, 0, 1, 0, 3, 0, 0, 0, 0, 0, 2, 0, 0, 5, 8, 0, 0,10, 0,12, 0])\n",
    "sub_sample_17 = np.array([12, 0, 8, 0, 4, 5, 0, 0, 0,12, 0, 0, 0, 3, 0, 0, 0, 0, 7, 6, 0, 1, 2, 0,10, 0])\n",
    "sub_sample_18 = np.array([12, 1, 0, 7, 0, 3, 0, 0, 0, 0,12, 0, 2, 0, 0, 6, 5, 0, 4, 8, 0, 0, 0, 0,10, 0])\n",
    "sub_sample_19 = np.array([2, 5, 7, 0, 0, 4, 0, 0, 0, 0, 0,12, 0, 0, 1, 0, 0, 0,10,12, 0, 0, 8, 3, 6, 0])\n",
    "sub_sample_20 = np.array([8, 5, 1, 0, 0, 7, 0,12, 0, 4, 0, 0, 2, 0, 0, 0, 0, 0, 3,10, 0, 0, 0, 0, 6, 0])\n",
    "sub_sample_21 = np.array([0, 3, 6, 0, 0, 4, 0, 5, 0, 1, 0, 0,12, 0, 0, 0, 0, 0, 8,10, 0, 0, 7, 2,12, 0])\n",
    "sub_sample_22 = np.array([0, 8, 2, 1, 3, 0, 0, 0, 0, 5, 0, 0, 0,  0, 0, 4, 0,10, 7, 0, 0,12, 6, 0, 0])\n",
    "sub_sample_23 = np.array([0, 6, 1, 0, 0, 5, 0, 0, 0, 0, 0, 0, 0,  0, 7,12, 0,10, 8, 0, 0, 2, 0, 4, 3])\n",
    "sub_sample_24 = np.array([6, 5, 3, 2, 1, 7, 0, 0, 0,12, 0, 0, 0, 12, 0, 0, 0, 0, 4,10, 0, 0, 0, 0, 8, 0])\n",
    "sub_sample_25 = np.array([1, 0, 0, 0, 0, 7, 0, 6, 0, 5, 3, 0, 0, 0, 12, 0, 2, 0,10, 8, 4, 0, 0, 0,12, 0])\n",
    "sub_sample_26 = np.array([0, 6, 4, 3, 0, 1, 0, 0, 0, 0, 2, 0, 0,  0,12, 8, 0, 5,12, 0, 0, 7, 0,10, 0])\n",
    "sub_sample_27 = np.array([0, 5, 1, 0, 0, 0, 0, 0, 0, 3, 4, 0, 2,  0,12,12, 0, 6, 8, 0, 0, 7, 0,10, 0])\n",
    "sub_sample_28 = np.array([0,12, 0, 6, 0, 8, 0, 0, 0, 2, 0, 0, 5,  7, 0, 0,12, 0,10, 0, 0, 0, 3, 4, 1])\n",
    "sub_sample_29 = np.array([7, 5, 4, 8, 0, 2, 0, 0, 0, 6, 0, 0, 0,  0, 1, 3, 0, 0,12, 0, 0, 0, 0,10, 0])\n",
    "sub_sample_30 = np.array([0, 0, 0, 7, 0, 5, 6, 0, 0, 1, 0, 0, 3,  4, 0, 2, 0, 0,10,12, 0, 0, 0, 8, 0])\n",
    "sub_sample_31 = np.array([0, 8, 0, 0, 2, 5, 0, 0, 0, 1, 0, 0, 0,  0, 3,12, 0,10, 6, 0, 0, 7, 0, 4, 0])\n",
    "sub_sample_32 = np.array([2, 7, 4, 0, 0, 3, 0, 1, 0, 0, 0, 0, 6,  0, 5, 0, 0,12, 8, 0, 0,10, 0,12, 0])\n",
    "sub_sample_33 = np.array([12, 4, 8, 6, 0, 0, 0, 7, 0, 3, 0, 0, 0,  0, 1, 0, 0, 5,12, 0, 0, 2, 0,10, 0])\n",
    "sub_sample_34 = np.array([2, 5, 0, 0, 0, 3, 0, 0, 0, 0, 0, 0, 1, 0, 0, 6, 8, 0, 7,10, 0, 0, 4, 0,12, 0])\n",
    "sub_sample_35 = np.array([2, 6, 0, 0, 5, 8, 4, 3, 0, 0, 0, 0,10,  0, 0, 0, 0, 0,12,12, 0, 1, 0, 7, 0])\n",
    "sub_sample_36 = np.array([0, 3, 6, 0, 0, 2, 8, 0, 0, 0, 0, 0, 0,  1, 0, 0, 0, 4,10,12, 0, 5, 0, 7, 0])\n",
    "sub_sample_37 = np.array([6, 4, 2, 0, 0,12, 0, 0, 0,10, 0, 0, 0,  3, 0, 0, 0, 5, 8, 0,12, 1, 0, 7, 0])\n",
    "sub_sample_38 = np.array([0,12, 5, 0, 0, 4, 0, 0, 0, 3, 0, 0, 0,  0, 0, 6, 0,10, 8, 0, 1,12, 2, 7, 0])\n",
    "sub_sample_39 = np.array([0, 1,10, 0, 0, 0, 0, 0, 0, 3, 0, 8, 0,  7, 0, 0, 0, 5, 6,12, 2, 0, 0, 4, 0])\n",
    "sub_sample_40 = np.array([8, 5, 6, 0,12, 1, 0, 0, 0, 4, 0, 0, 0,  0, 0, 0, 0,10, 3, 0, 0, 2,12, 7, 0])\n",
    "sub_sample_41 = np.array([7, 4, 0,10, 0, 2, 0, 0, 0, 0, 6, 0, 0,  0, 5, 3, 0, 8,12, 0, 0, 1, 0,12, 0])\n",
    "sub_sample_42 = np.array([0, 6, 0, 0, 0, 8, 0, 2, 0, 0, 0, 0, 0,  0, 3,12, 0,10, 7, 0, 4, 1, 0, 5,12])"
   ]
  },
  {
   "cell_type": "code",
   "execution_count": 54,
   "metadata": {},
   "outputs": [],
   "source": [
    "samples = np.ndarray(shape = (42,), dtype = \"object\")\n",
    "samples[0] = sub_sample_1\n",
    "samples[1] = sub_sample_2\n",
    "samples[2] = sub_sample_3\n",
    "samples[3] = sub_sample_4\n",
    "samples[4] = sub_sample_5\n",
    "samples[5] = sub_sample_6\n",
    "samples[6] = sub_sample_7\n",
    "samples[7] = sub_sample_8\n",
    "samples[8] = sub_sample_9\n",
    "samples[9] = sub_sample_10\n",
    "samples[10] = sub_sample_11\n",
    "samples[11] = sub_sample_12\n",
    "samples[12] = sub_sample_13\n",
    "samples[13] = sub_sample_14\n",
    "samples[14] = sub_sample_15\n",
    "samples[15] = sub_sample_16\n",
    "samples[16] = sub_sample_17\n",
    "samples[17] = sub_sample_18\n",
    "samples[18] = sub_sample_19\n",
    "samples[19] = sub_sample_20\n",
    "samples[20] = sub_sample_21\n",
    "samples[21] = sub_sample_22\n",
    "samples[22] = sub_sample_23\n",
    "samples[23] = sub_sample_24\n",
    "samples[24] = sub_sample_25\n",
    "samples[25] = sub_sample_26\n",
    "samples[26] = sub_sample_27\n",
    "samples[27] = sub_sample_28\n",
    "samples[28] = sub_sample_29\n",
    "samples[29] = sub_sample_30\n",
    "samples[30] = sub_sample_31\n",
    "samples[31] = sub_sample_32\n",
    "samples[32] = sub_sample_33\n",
    "samples[33] = sub_sample_34\n",
    "samples[34] = sub_sample_35\n",
    "samples[35] = sub_sample_36\n",
    "samples[36] = sub_sample_37\n",
    "samples[37] = sub_sample_38\n",
    "samples[38] = sub_sample_39\n",
    "samples[39] = sub_sample_40\n",
    "samples[40] = sub_sample_41\n",
    "samples[41] = sub_sample_42"
   ]
  },
  {
   "cell_type": "code",
   "execution_count": 55,
   "metadata": {},
   "outputs": [
    {
     "data": {
      "text/plain": [
       "numpy.ndarray"
      ]
     },
     "execution_count": 55,
     "metadata": {},
     "output_type": "execute_result"
    }
   ],
   "source": [
    "type (samples)"
   ]
  },
  {
   "cell_type": "code",
   "execution_count": null,
   "metadata": {},
   "outputs": [],
   "source": [
    "# Calculating the single linkage\n",
    "mergings = linkage(samples.todense(), method='single')\n",
    "\n",
    "# Plotting the dendrogram\n",
    "dendrogram(mergings, labels=country_names, leaf_rotation=90, leaf_font_size=6)\n",
    "plt.rcParams[\"figure.figsize\"] = (25,12)\n",
    "plt.show()"
   ]
  }
 ],
 "metadata": {
  "kernelspec": {
   "display_name": "Python 2",
   "language": "python",
   "name": "python2"
  },
  "language_info": {
   "codemirror_mode": {
    "name": "ipython",
    "version": 2
   },
   "file_extension": ".py",
   "mimetype": "text/x-python",
   "name": "python",
   "nbconvert_exporter": "python",
   "pygments_lexer": "ipython2",
   "version": "2.7.14"
  }
 },
 "nbformat": 4,
 "nbformat_minor": 2
}
