{
 "cells": [
  {
   "cell_type": "markdown",
   "metadata": {},
   "source": [
    "# 1. Introduction\n",
    "Everyone loves Lego (unless you ever stepped on one). Did you know by the way that \"Lego\" was derived from the Danish phrase leg godt, which means \"play well\"? Unless you speak Danish, probably not.\n",
    "\n",
    "In this project, we will analyze a fascinating dataset on every single lego block that has ever been built!\n",
    "\n",
    "![](img/lego_bricks1.jpeg)"
   ]
  },
  {
   "cell_type": "markdown",
   "metadata": {},
   "source": [
    "# Understanding Data\n",
    "A comprehensive database of lego blocks is provided by Rebrickable. The data is available as csv files and the schema is shown below.\n",
    "\n",
    "![downloads_schema.png](img/downloads_schema.png)"
   ]
  },
  {
   "cell_type": "code",
   "execution_count": 158,
   "metadata": {
    "collapsed": true
   },
   "outputs": [],
   "source": [
    "#Importing the Visualization and Computational Packages\n",
    "import numpy as np\n",
    "import pandas as pd\n",
    "import matplotlib.pyplot as plt"
   ]
  },
  {
   "cell_type": "code",
   "execution_count": 159,
   "metadata": {
    "collapsed": true
   },
   "outputs": [],
   "source": [
    "#Importing the datasets - colors and sets\n",
    "colors = pd.read_csv(\"datasets/colors.csv\")\n",
    "sets = pd.read_csv(\"datasets/sets.csv\", dtype={'year': np.int, 'theme_id': np.str})"
   ]
  },
  {
   "cell_type": "code",
   "execution_count": 160,
   "metadata": {},
   "outputs": [
    {
     "name": "stdout",
     "output_type": "stream",
     "text": [
      "Printing head of Colors dataset\n",
      "\n",
      "   id            name     rgb is_trans\n",
      "0  -1         Unknown  0033B2        f\n",
      "1   0           Black  05131D        f\n",
      "2   1            Blue  0055BF        f\n",
      "3   2           Green  237841        f\n",
      "4   3  Dark Turquoise  008F9B        f\n",
      "\n",
      "Printing tail of Colors dataset\n",
      "\n",
      "       id                          name     rgb is_trans\n",
      "130  1004  Trans Flame Yellowish Orange  FCB76D        t\n",
      "131  1005             Trans Fire Yellow  FBE890        t\n",
      "132  1006        Trans Light Royal Blue  B4D4F7        t\n",
      "133  1007                 Reddish Lilac  8E5597        f\n",
      "134  9999                    [No Color]  05131D        f\n"
     ]
    }
   ],
   "source": [
    "#Exploring the colors dataset\n",
    "print (\"Printing head of Colors dataset\\n\")\n",
    "print (colors.head())\n",
    "print (\"\\nPrinting tail of Colors dataset\\n\")\n",
    "print (colors.tail())"
   ]
  },
  {
   "cell_type": "code",
   "execution_count": 161,
   "metadata": {},
   "outputs": [
    {
     "name": "stdout",
     "output_type": "stream",
     "text": [
      "Number of Unique Colors = 135 \n"
     ]
    }
   ],
   "source": [
    "#Distinct colors\n",
    "num_colors = len(colors.name.unique())\n",
    "print (\"Number of Unique Colors = %s \" % num_colors)"
   ]
  },
  {
   "cell_type": "code",
   "execution_count": 162,
   "metadata": {},
   "outputs": [
    {
     "name": "stdout",
     "output_type": "stream",
     "text": [
      "           id  name  rgb\n",
      "is_trans                \n",
      "f         107   107  107\n",
      "t          28    28   28\n"
     ]
    }
   ],
   "source": [
    "#Understaning summary of transparent and non-transparent colors\n",
    "colors_summary = colors.groupby(colors['is_trans']).count()\n",
    "print (colors_summary)"
   ]
  },
  {
   "cell_type": "code",
   "execution_count": 163,
   "metadata": {
    "collapsed": true
   },
   "outputs": [],
   "source": [
    "# Splitting into transparent and non transparent dataframes\n",
    "colors_transparent = colors.query(\"is_trans == 't'\")\n",
    "colors_ntransparent = colors.query(\"is_trans == 'f'\")"
   ]
  },
  {
   "cell_type": "code",
   "execution_count": 164,
   "metadata": {},
   "outputs": [
    {
     "name": "stdout",
     "output_type": "stream",
     "text": [
      "        name\n",
      "rgb         \n",
      "0020A0     1\n",
      "635F52     2\n",
      "68BCC5     1\n",
      "84B68D     1\n",
      "96709F     1\n"
     ]
    }
   ],
   "source": [
    "#Count of entries by color in transparent set\n",
    "transparent_entries = colors_transparent.groupby(colors['rgb']).agg({'name':'count'})\n",
    "print (transparent_entries.head())\n"
   ]
  },
  {
   "cell_type": "code",
   "execution_count": 165,
   "metadata": {},
   "outputs": [
    {
     "name": "stdout",
     "output_type": "stream",
     "text": [
      "        name\n",
      "rgb         \n",
      "000000     3\n",
      "0033B2     1\n",
      "0055BF     1\n",
      "008F9B     1\n",
      "05131D     2\n"
     ]
    }
   ],
   "source": [
    "#Count of entries by color in non-transparent set\n",
    "ntransparent_entries = colors_ntransparent.groupby(colors['rgb']).agg({'name':'count'})\n",
    "print (ntransparent_entries.head())"
   ]
  },
  {
   "cell_type": "code",
   "execution_count": 166,
   "metadata": {},
   "outputs": [
    {
     "name": "stdout",
     "output_type": "stream",
     "text": [
      "Printing head of Sets dataset\n",
      "\n",
      "  set_num                        name  year theme_id  num_parts\n",
      "0    00-1             Weetabix Castle  1970      414      471.0\n",
      "1  0011-2           Town Mini-Figures  1978       84       12.0\n",
      "2  0011-3  Castle 2 for 1 Bonus Offer  1987      199        2.0\n",
      "3  0012-1          Space Mini-Figures  1979      143       12.0\n",
      "4  0013-1          Space Mini-Figures  1979      143       12.0\n",
      "\n",
      "Printing tail of Sets dataset\n",
      "\n",
      "             set_num                                               name  year  \\\n",
      "11857    Wauwatosa-1  LEGO Store Grand Opening Exclusive Set, Mayfai...  2012   \n",
      "11858   WHITEHOUSE-1                                  Micro White House  2015   \n",
      "11859    Wiesbaden-1  LEGO Store Grand Opening Exclusive Set, Wiesba...  2010   \n",
      "11860  WishingWell-1                     Wishing Well [Toys R Us Promo]  2013   \n",
      "11861        wwgp1-1                Wild West Limited Edition Gift Pack  1996   \n",
      "\n",
      "      theme_id  num_parts  \n",
      "11857      408       15.0  \n",
      "11858      598       59.0  \n",
      "11859      408      146.0  \n",
      "11860      494       28.0  \n",
      "11861      476        3.0  \n"
     ]
    }
   ],
   "source": [
    "#Exploring the sets dataset\n",
    "print (\"Printing head of Sets dataset\\n\")\n",
    "print (sets.head())\n",
    "print (\"\\nPrinting tail of Sets dataset\\n\")\n",
    "print (sets.tail())"
   ]
  },
  {
   "cell_type": "code",
   "execution_count": 167,
   "metadata": {},
   "outputs": [
    {
     "data": {
      "image/png": "[encoded data removed]",
      "text/plain": [
       "<matplotlib.figure.Figure at 0x11cf39590>"
      ]
     },
     "metadata": {},
     "output_type": "display_data"
    }
   ],
   "source": [
    "#Summary of average number of parts per year after 2000\n",
    "parts_after_2000 = sets.query(\"year > 2000\")\n",
    "parts_by_year = parts_after_2000.groupby('year').agg({\"num_parts\": \"mean\"})\n",
    "\n",
    "# Plot trends in average number of parts by year\n",
    "plt.plot(np.log(parts_by_year.num_parts), color='green')\n",
    "plt.xlabel('Year')\n",
    "plt.ylabel('Logarithmic Average Number of Parts')\n",
    "plt.title('Average Parts Variance over years')\n",
    "plt.rcParams[\"figure.figsize\"] = (10,10)\n",
    "plt.show()\n"
   ]
  },
  {
   "cell_type": "code",
   "execution_count": 168,
   "metadata": {},
   "outputs": [
    {
     "data": {
      "image/png": "[encoded data removed]",
      "text/plain": [
       "<matplotlib.figure.Figure at 0x11da8f0d0>"
      ]
     },
     "metadata": {},
     "output_type": "display_data"
    }
   ],
   "source": [
    "# Summary of average number of parts by theme id after 2000 for top 20 themes\n",
    "most_sold_theme = parts_after_2000.groupby('theme_id').agg({\"num_parts\": \"sum\"}).sort_values(by='num_parts', ascending=0).head(n=20)\n",
    "#Bar chart visualisation\n",
    "plt.bar(most_sold_theme.index.get_level_values(0).map(str), most_sold_theme.num_parts)\n",
    "plt.xlabel('Theme ID', fontsize=15)\n",
    "plt.ylabel('Total parts sold', fontsize=15)\n",
    "plt.title('Top 20 Lego theme sold after 2000')\n",
    "plt.rcParams[\"figure.figsize\"] = (12,6)\n",
    "plt.show()\n",
    "\n"
   ]
  },
  {
   "cell_type": "markdown",
   "metadata": {},
   "source": [
    "Lego blocks offer an unlimited amount of fun across ages. We explored some interesting trends around colors, parts, and themes."
   ]
  }
 ],
 "metadata": {
  "kernelspec": {
   "display_name": "Python 2",
   "language": "python",
   "name": "python2"
  },
  "language_info": {
   "codemirror_mode": {
    "name": "ipython",
    "version": 2
   },
   "file_extension": ".py",
   "mimetype": "text/x-python",
   "name": "python",
   "nbconvert_exporter": "python",
   "pygments_lexer": "ipython2",
   "version": "2.7.14"
  }
 },
 "nbformat": 4,
 "nbformat_minor": 2
}
